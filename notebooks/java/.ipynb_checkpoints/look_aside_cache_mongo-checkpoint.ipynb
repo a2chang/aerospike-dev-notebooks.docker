{
 "cells": [
  {
   "cell_type": "markdown",
   "metadata": {},
   "source": [
    "#### This is a Look aside cache implementation for Aerospike and Mongo.\n",
    "\n",
    "The basic cache is a read cache that reads value from the cache ( Aerospike )\n",
    "If it doesn't find the value then it fetches the same value from Mongo and\n",
    "inserts that record in Aerospike.\n",
    "\n",
    "Further reads will then happen from Aerospike"
   ]
  },
  {
   "cell_type": "code",
   "execution_count": 1,
   "metadata": {},
   "outputs": [],
   "source": [
    "%%loadFromPOM\n",
    "<dependencies>\n",
    "  <dependency>\n",
    "    <groupId>com.aerospike</groupId>\n",
    "    <artifactId>aerospike-client</artifactId>\n",
    "    <version>5.0.0</version>\n",
    "  </dependency>\n",
    "  <dependency>\n",
    "    <groupId>org.mongodb</groupId>\n",
    "    <artifactId>mongo-java-driver</artifactId>\n",
    "    <version>3.12.7</version>\n",
    "  </dependency>\n",
    "</dependencies>"
   ]
  },
  {
   "cell_type": "code",
   "execution_count": 2,
   "metadata": {},
   "outputs": [],
   "source": [
    "import com.aerospike.client.AerospikeClient;\n",
    "import com.aerospike.client.policy.WritePolicy;\n",
    "import com.aerospike.client.Bin;\n",
    "import com.aerospike.client.Key;\n",
    "import com.aerospike.client.Record;\n",
    "import com.aerospike.client.Value;\n",
    "\n",
    "import com.mongodb.client.MongoDatabase;\n",
    "import com.mongodb.client.MongoCollection;\n",
    "import com.mongodb.MongoClient; \n",
    "import com.mongodb.MongoCredential; \n",
    "import org.bson.Document;\n",
    "import com.mongodb.client.model.Filters; "
   ]
  },
  {
   "cell_type": "code",
   "execution_count": 3,
   "metadata": {},
   "outputs": [],
   "source": [
    "public class Test{\n",
    "    public static void putRecordGetRecord () {\n",
    "        AerospikeClient client = new AerospikeClient(\"0.0.0.0\", 3000);\n",
    "        \n",
    "        // Run another mongo Docker container and use that IP for connecting\n",
    "        MongoClient mongo = new MongoClient( \"172.17.0.3\" , 27017 );\n",
    "        MongoCredential credential; \n",
    "        credential = MongoCredential.createCredential(\"sampleUser\", \"myDb\", \n",
    "         \"password\".toCharArray());\n",
    "        MongoDatabase database = mongo.getDatabase(\"myDb\");\n",
    "        // Populate Mongodb first\n",
    "        //database.createCollection(\"sampleCollection\");\n",
    "        Document document = new Document(\"id\", \"MongoDB\");\n",
    "        \n",
    "        MongoCollection<Document> collection = database.getCollection(\"sampleCollection\");\n",
    "        collection.insertOne(document);\n",
    "        // Find the same id in Aerospike\n",
    "        Key key = new Key(\"test\", \"demo\", \"id\");\n",
    "        Record record = client.get(null,key);\n",
    "        if ( record == null ) {\n",
    "            document = collection.find(Filters.eq(\"id\", \"MongoDB\")).first();\n",
    "            String json = document.toJson();\n",
    "            client.put(null, key, new Bin(\"item\",json));\n",
    "            \n",
    "        } else {\n",
    "            String json = record.getString(\"item\");\n",
    "            System.out.println(\"Fetched data :::\" + json);\n",
    "        }\n",
    "    }\n",
    "}"
   ]
  },
  {
   "cell_type": "code",
   "execution_count": 4,
   "metadata": {},
   "outputs": [
    {
     "ename": "EvalException",
     "evalue": "Error -8: Failed to connect to host(s): \n0.0.0.0 3000 Error -8: java.net.ConnectException: Connection refused (Connection refused)\n",
     "output_type": "error",
     "traceback": [
      "\u001b[1m\u001b[31m---------------------------------------------------------------------------\u001b[0m",
      "\u001b[1m\u001b[31mcom.aerospike.client.AerospikeException$Connection: Error -8: Failed to connect to host(s): \u001b[0m",
      "\u001b[1m\u001b[31m0.0.0.0 3000 Error -8: java.net.ConnectException: Connection refused (Connection refused)\u001b[0m",
      "\u001b[1m\u001b[31m\u001b[0m",
      "\u001b[1m\u001b[31m\tat com.aerospike.client.cluster.Cluster.seedNode(Cluster.java:604)\u001b[0m",
      "\u001b[1m\u001b[31m\tat com.aerospike.client.cluster.Cluster.tend(Cluster.java:470)\u001b[0m",
      "\u001b[1m\u001b[31m\tat com.aerospike.client.cluster.Cluster.waitTillStabilized(Cluster.java:415)\u001b[0m",
      "\u001b[1m\u001b[31m\tat com.aerospike.client.cluster.Cluster.initTendThread(Cluster.java:337)\u001b[0m",
      "\u001b[1m\u001b[31m\tat com.aerospike.client.cluster.Cluster.<init>(Cluster.java:295)\u001b[0m",
      "\u001b[1m\u001b[31m\tat com.aerospike.client.AerospikeClient.<init>(AerospikeClient.java:240)\u001b[0m",
      "\u001b[1m\u001b[31m\tat com.aerospike.client.AerospikeClient.<init>(AerospikeClient.java:181)\u001b[0m",
      "\u001b[1m\u001b[31m\tat Test.putRecordGetRecord(#27:3)\u001b[0m",
      "\u001b[1m\u001b[31m\tat .(#28:1)\u001b[0m"
     ]
    }
   ],
   "source": [
    "Test.putRecordGetRecord()"
   ]
  },
  {
   "cell_type": "code",
   "execution_count": null,
   "metadata": {},
   "outputs": [],
   "source": []
  }
 ],
 "metadata": {
  "kernelspec": {
   "display_name": "Java",
   "language": "java",
   "name": "java"
  },
  "language_info": {
   "codemirror_mode": "java",
   "file_extension": ".jshell",
   "mimetype": "text/x-java-source",
   "name": "Java",
   "pygments_lexer": "java",
   "version": "11.0.7+10"
  }
 },
 "nbformat": 4,
 "nbformat_minor": 4
}
