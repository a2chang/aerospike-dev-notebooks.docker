{
 "cells": [
  {
   "cell_type": "code",
   "execution_count": 47,
   "metadata": {},
   "outputs": [],
   "source": [
    "import aerospike\n",
    "import pymongo\n",
    "from pymongo import MongoClient\n",
    "import sys"
   ]
  },
  {
   "cell_type": "markdown",
   "metadata": {},
   "source": [
    "## Configure the clients\n",
    "\n",
    "The configuration is for \n",
    " - Aerospike database running on port 3000 of localhost (IP 127.0.0.1) which is the default. \n",
    " - Mongo running in a separate container whose IP can be found by `docker inspect <containerid> | grep -i ipaddress`\n",
    "\n",
    "\n",
    "Modify config if your environment is different (Aerospike database running on a different host or different port)."
   ]
  },
  {
   "cell_type": "code",
   "execution_count": 51,
   "metadata": {},
   "outputs": [
    {
     "name": "stdout",
     "output_type": "stream",
     "text": [
      "Connected to Aerospike\n",
      "Connected to Mongo\n"
     ]
    }
   ],
   "source": [
    "#Aerospike configuration\n",
    "aero_config = {\n",
    "  'hosts': [ ('127.0.0.1', 3000) ]\n",
    "}\n",
    "try:\n",
    "  aero_client = aerospike.client(config).connect()\n",
    "except:\n",
    "  print(\"Failed to connect to the cluster with\", config['hosts'])\n",
    "  sys.exit(1)\n",
    "print(\"Connected to Aerospike\")\n",
    "\n",
    "#Mongo configuration\n",
    "try:\n",
    "    mongo_client = MongoClient(\"172.17.0.3\", 27017)\n",
    "    print(\"Connected to Mongo\")\n",
    "except:\n",
    "    print(\"Failed to connect to Mongo\")\n",
    "    sys.exit(1)"
   ]
  },
  {
   "cell_type": "code",
   "execution_count": 101,
   "metadata": {},
   "outputs": [],
   "source": [
    "# Store data in Mongo and clear the keys in Aerospike if any\n",
    "def store_data(data_id, data):\n",
    "    db = mongo_client[\"test-database\"]\n",
    "    collection = db['test-collection']\n",
    "    m_data = {data_id: data}\n",
    "    collection.drop()\n",
    "    aero_key = ('test', 'demo', data_id)\n",
    "    aero_client.remove(aero_key)\n",
    "    post_id = collection.insert_one(m_data)\n",
    "store_data(\"key\", \"value\")"
   ]
  },
  {
   "cell_type": "code",
   "execution_count": 104,
   "metadata": {},
   "outputs": [
    {
     "name": "stdout",
     "output_type": "stream",
     "text": [
      "Data retrieved from Aerospike cache\n",
      "Record::: key value\n"
     ]
    }
   ],
   "source": [
    "def get_data(data_id, data):\n",
    "    aero_key = ('test', 'demo', data_id)\n",
    "    #aero_client.remove(aero_key)\n",
    "    data_check = aero_client.exists(aero_key)\n",
    "    if data_check[1]:\n",
    "        (key, metadata, record) = aero_client.get(aero_key)\n",
    "        print(\"Data retrieved from Aerospike cache\")\n",
    "        print(\"Record::: {} {}\".format(data_id, record['value']))\n",
    "    else:\n",
    "        mongo_data = collection.find_one({data_id: data})\n",
    "        print(\"Data not present in Aerospike cache, retrieved from mongo {}\".format(mongo_data))\n",
    "        aero_client.put(aero_key, {'value': mongo_data[data_id]})\n",
    "get_data(\"key\", \"value\")"
   ]
  },
  {
   "cell_type": "code",
   "execution_count": null,
   "metadata": {},
   "outputs": [],
   "source": []
  },
  {
   "cell_type": "code",
   "execution_count": null,
   "metadata": {},
   "outputs": [],
   "source": []
  }
 ],
 "metadata": {
  "kernelspec": {
   "display_name": "Python 3",
   "language": "python",
   "name": "python3"
  },
  "language_info": {
   "codemirror_mode": {
    "name": "ipython",
    "version": 3
   },
   "file_extension": ".py",
   "mimetype": "text/x-python",
   "name": "python",
   "nbconvert_exporter": "python",
   "pygments_lexer": "ipython3",
   "version": "3.8.6"
  }
 },
 "nbformat": 4,
 "nbformat_minor": 4
}
